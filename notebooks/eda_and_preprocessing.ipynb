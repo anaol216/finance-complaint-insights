{
 "cells": [
  {
   "cell_type": "code",
   "execution_count": 1,
   "id": "9dc04384",
   "metadata": {},
   "outputs": [],
   "source": [
    "import sys\n",
    "import os\n",
    "\n",
    "sys.path.append(os.path.abspath('../src'))\n",
    "\n",
    "from eda_preprocessing import ComplaintDataProcessor\n"
   ]
  },
  {
   "cell_type": "code",
   "execution_count": null,
   "id": "cb200eae",
   "metadata": {},
   "outputs": [],
   "source": [
    "\n",
    "target_products = [\n",
    "    'Credit card',\n",
    "    'Personal loan',\n",
    "    'Buy Now, Pay Later (BNPL)',\n",
    "    'Savings account',\n",
    "    'Money transfer, virtual currency, or money service'\n",
    "]\n",
    "\n",
    "processor = ComplaintDataProcessor('../data/complaints.csv')\n",
    "df = processor.load_data()\n",
    "filtered_df = processor.filter_products(target_products)\n",
    "cleaned_df = processor.clean_narratives()\n",
    "processor.plot_product_distribution()\n",
    "processor.plot_narrative_lengths()\n",
    "processor.save_filtered_data('../data/filtered_complaints.csv')"
   ]
  }
 ],
 "metadata": {
  "kernelspec": {
   "display_name": "venv",
   "language": "python",
   "name": "python3"
  },
  "language_info": {
   "codemirror_mode": {
    "name": "ipython",
    "version": 3
   },
   "file_extension": ".py",
   "mimetype": "text/x-python",
   "name": "python",
   "nbconvert_exporter": "python",
   "pygments_lexer": "ipython3",
   "version": "3.13.5"
  }
 },
 "nbformat": 4,
 "nbformat_minor": 5
}
